{
 "cells": [
  {
   "cell_type": "markdown",
   "source": [
    "# Audiobooks business case"
   ],
   "metadata": {}
  },
  {
   "cell_type": "markdown",
   "source": [
    "## Preprocess the data. Balance the dataset. Standardize the data. Create 3 datasets: training, validation, and test. Save the newly created sets in a tensor friendly format (e.g. *.npz)\r\n",
    "\r\n",
    "Since we are dealing with real life data, we will need to preprocess it a bit.\r\n",
    "\r\n",
    "If you want to know how to do that, go through the code with comments. In any case, this should do the trick for most datasets organized in the way: many inputs, and then 1 cell containing the targets (supersized learning datasets). Keep in mind that a specific problem may require additional preprocessing.\r\n",
    "\r\n",
    "Note that we have removed the header row, which contains the names of the categories. We simply need the numerical data."
   ],
   "metadata": {}
  },
  {
   "cell_type": "markdown",
   "source": [
    "### Extract the data from the csv"
   ],
   "metadata": {}
  },
  {
   "cell_type": "code",
   "execution_count": 3,
   "source": [
    "import numpy as np\r\n",
    "\r\n",
    "# We will use the StandardScaler module, so we can later deploy the model\r\n",
    "from sklearn.preprocessing import StandardScaler\r\n",
    "\r\n",
    "import pickle\r\n",
    "\r\n",
    "# Load the data\r\n",
    "raw_csv_data = np.loadtxt('Audiobooks_data.csv',delimiter=',')\r\n",
    "\r\n",
    "# The inputs are all columns in the csv, except for the first one and the last one\r\n",
    "# The first column is the arbitrary ID, while the last contains the targets\r\n",
    "\r\n",
    "unscaled_inputs_all = raw_csv_data[:,1:-1]\r\n",
    "\r\n",
    "# The targets are in the last column. That's how datasets are conventionally organized.\r\n",
    "targets_all = raw_csv_data[:,-1]"
   ],
   "outputs": [],
   "metadata": {}
  },
  {
   "cell_type": "markdown",
   "source": [
    "## Balance the dataset"
   ],
   "metadata": {}
  },
  {
   "cell_type": "code",
   "execution_count": 6,
   "source": [
    "# There are different Python packages that could be used for balancing\r\n",
    "# Here we approach the problem manually, so you can observe the inner workings of the balancing process\r\n",
    "\r\n",
    "# Count how many targets are 1 (meaning that the customer did convert)\r\n",
    "num_one_targets = int(np.sum(targets_all))\r\n",
    "\r\n",
    "# Set a counter for targets that are 0 (meaning that the customer did not convert)\r\n",
    "zero_targets_counter = 0\r\n",
    "\r\n",
    "# We want to create a \"balanced\" dataset, so we will have to remove some input/target pairs.\r\n",
    "# Declare a variable that will do that:\r\n",
    "indices_to_remove = []\r\n",
    "\r\n",
    "# Count the number of targets that are 0. \r\n",
    "# Once there are as many 0s as 1s, mark entries where the target is 0.\r\n",
    "for i in range(targets_all.shape[0]):\r\n",
    "    if targets_all[i] == 0:\r\n",
    "        zero_targets_counter += 1\r\n",
    "        if zero_targets_counter > num_one_targets:\r\n",
    "            indices_to_remove.append(i)\r\n",
    "\r\n",
    "# Create two new variables, one that will contain the inputs, and one that will contain the targets.\r\n",
    "# We delete all indices that we marked \"to remove\" in the loop above.\r\n",
    "unscaled_inputs_equal_priors = np.delete(unscaled_inputs_all, indices_to_remove, axis=0)\r\n",
    "targets_equal_priors = np.delete(targets_all, indices_to_remove, axis=0)"
   ],
   "outputs": [],
   "metadata": {}
  },
  {
   "cell_type": "markdown",
   "source": [
    "### Standardize the inputs"
   ],
   "metadata": {}
  },
  {
   "cell_type": "code",
   "execution_count": 7,
   "source": [
    "# Crete a standar scaler object\r\n",
    "scaler_deep_learning = StandardScaler()\r\n",
    "# Fit and transform the original data\r\n",
    "# Essentially, we calculate and STORE the mean and variance of the data in the scaler object\r\n",
    "# At the same time we standrdize the data using this information\r\n",
    "# Note that the mean and variance remain recorded in the scaler object\r\n",
    "scaled_inputs = scaler_deep_learning.fit_transform(unscaled_inputs_equal_priors)"
   ],
   "outputs": [],
   "metadata": {}
  },
  {
   "cell_type": "markdown",
   "source": [
    "### Shuffle the data"
   ],
   "metadata": {}
  },
  {
   "cell_type": "code",
   "execution_count": 8,
   "source": [
    "# When the data was collected it was actually arranged by date\r\n",
    "# Shuffle the indices of the data, so the data is not arranged in any way when we feed it.\r\n",
    "# Since we will be batching, we want the data to be as randomly spread out as possible\r\n",
    "shuffled_indices = np.arange(scaled_inputs.shape[0])\r\n",
    "np.random.shuffle(shuffled_indices)\r\n",
    "\r\n",
    "# Use the shuffled indices to shuffle the inputs and targets.\r\n",
    "shuffled_inputs = scaled_inputs[shuffled_indices]\r\n",
    "shuffled_targets = targets_equal_priors[shuffled_indices]"
   ],
   "outputs": [],
   "metadata": {}
  },
  {
   "cell_type": "markdown",
   "source": [
    "### Split the data set into train,validation, and test."
   ],
   "metadata": {}
  },
  {
   "cell_type": "code",
   "execution_count": 9,
   "source": [
    "# Count the total number of samples\r\n",
    "samples_count = shuffled_inputs.shape[0]\r\n",
    "\r\n",
    "# Count the samples in each subset, assuming we want 80-10-10 distribution of training, validation, and test.\r\n",
    "# Naturally, the numbers are integers.\r\n",
    "train_samples_count = int(0.8 * samples_count)\r\n",
    "validation_samples_count = int(0.1 * samples_count)\r\n",
    "\r\n",
    "# The 'test' dataset contains all remaining data.\r\n",
    "test_samples_count = samples_count - train_samples_count - validation_samples_count\r\n",
    "\r\n",
    "# Create variables that record the inputs and targets for training\r\n",
    "# In our shuffled dataset, they are the first \"train_samples_count\" observations\r\n",
    "train_inputs = shuffled_inputs[:train_samples_count]\r\n",
    "train_targets = shuffled_targets[:train_samples_count]\r\n",
    "\r\n",
    "# Create variables that record the inputs and targets for validation.\r\n",
    "# They are the next \"validation_samples_count\" observations, folllowing the \"train_samples_count\" we already assigned\r\n",
    "validation_inputs = shuffled_inputs[train_samples_count:train_samples_count+validation_samples_count]\r\n",
    "validation_targets = shuffled_targets[train_samples_count:train_samples_count+validation_samples_count]\r\n",
    "\r\n",
    "# Create variables that record the inputs and targets for test.\r\n",
    "# They are everything that is remaining.\r\n",
    "test_inputs = shuffled_inputs[train_samples_count+validation_samples_count:]\r\n",
    "test_targets = shuffled_targets[train_samples_count+validation_samples_count:]\r\n",
    "\r\n",
    "# We balanced our dataset to be 50-50 (for targets 0 and 1), but the training, validation, and test were \r\n",
    "# taken from a shuffled dataset. Check if they are balanced, too. Note that each time you rerun this code, \r\n",
    "# you will get different values, as each time they are shuffled randomly.\r\n",
    "# Normally you preprocess ONCE, so you need not rerun this code once it is done.\r\n",
    "# If you rerun this whole sheet, the npzs will be overwritten with your newly preprocessed data.\r\n",
    "\r\n",
    "# Print the number of targets that are 1s, the total number of samples, and the proportion for training, validation, and test.\r\n",
    "print(np.sum(train_targets), train_samples_count, np.sum(train_targets) / train_samples_count)\r\n",
    "print(np.sum(validation_targets), validation_samples_count, np.sum(validation_targets) / validation_samples_count)\r\n",
    "print(np.sum(test_targets), test_samples_count, np.sum(test_targets) / test_samples_count)"
   ],
   "outputs": [
    {
     "output_type": "stream",
     "name": "stdout",
     "text": [
      "1792.0 3579 0.5006985191394244\n",
      "218.0 447 0.48769574944071586\n",
      "227.0 448 0.5066964285714286\n"
     ]
    }
   ],
   "metadata": {}
  },
  {
   "cell_type": "markdown",
   "source": [
    "### Save the three datasets in *.npz"
   ],
   "metadata": {}
  },
  {
   "cell_type": "code",
   "execution_count": 10,
   "source": [
    "# Save the three datasets in *.npz.\r\n",
    "# In the next lesson, you will see that it is extremely valuable to name them in such a coherent way!\r\n",
    "\r\n",
    "np.savez('Audiobooks_data_train', inputs=train_inputs, targets=train_targets)\r\n",
    "np.savez('Audiobooks_data_validation', inputs=validation_inputs, targets=validation_targets)\r\n",
    "np.savez('Audiobooks_data_test', inputs=test_inputs, targets=test_targets)"
   ],
   "outputs": [],
   "metadata": {}
  },
  {
   "cell_type": "markdown",
   "source": [
    "### Save the scaler"
   ],
   "metadata": {}
  },
  {
   "cell_type": "code",
   "execution_count": 11,
   "source": [
    "# Similar to how we have saved the scaler files before, we also save this scaler, so we can apply in on new data\r\n",
    "pickle.dump(scaler_deep_learning, open('scaler_deep_learning.pickle', 'wb'))"
   ],
   "outputs": [],
   "metadata": {}
  }
 ],
 "metadata": {
  "orig_nbformat": 4,
  "language_info": {
   "name": "python",
   "version": "3.7.9",
   "mimetype": "text/x-python",
   "codemirror_mode": {
    "name": "ipython",
    "version": 3
   },
   "pygments_lexer": "ipython3",
   "nbconvert_exporter": "python",
   "file_extension": ".py"
  },
  "kernelspec": {
   "name": "python3",
   "display_name": "Python 3.7.9 64-bit ('hashanalytics': conda)"
  },
  "interpreter": {
   "hash": "fda10c17a9df46d77c0ae753b4e3a2aa8c45f7d9584953950091d4d531a44370"
  }
 },
 "nbformat": 4,
 "nbformat_minor": 2
}